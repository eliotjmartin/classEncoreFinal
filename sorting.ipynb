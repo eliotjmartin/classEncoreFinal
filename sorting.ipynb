{
 "cells": [
  {
   "cell_type": "code",
   "execution_count": 1,
   "id": "8cdab255",
   "metadata": {},
   "outputs": [],
   "source": [
    "import time\n",
    "import pandas as pd\n",
    "import numpy as np\n",
    "import seaborn as sns\n",
    "import random\n",
    "import matplotlib.pyplot as plt"
   ]
  },
  {
   "cell_type": "markdown",
   "id": "1cfa689f",
   "metadata": {},
   "source": [
    "<center><h2>Sorting!</h2></center>"
   ]
  },
  {
   "cell_type": "code",
   "execution_count": 2,
   "id": "70fa7aba",
   "metadata": {
    "scrolled": false
   },
   "outputs": [
    {
     "data": {
      "text/html": [
       "<div>\n",
       "<style scoped>\n",
       "    .dataframe tbody tr th:only-of-type {\n",
       "        vertical-align: middle;\n",
       "    }\n",
       "\n",
       "    .dataframe tbody tr th {\n",
       "        vertical-align: top;\n",
       "    }\n",
       "\n",
       "    .dataframe thead th {\n",
       "        text-align: right;\n",
       "    }\n",
       "</style>\n",
       "<table border=\"1\" class=\"dataframe\">\n",
       "  <thead>\n",
       "    <tr style=\"text-align: right;\">\n",
       "      <th></th>\n",
       "      <th>Year</th>\n",
       "      <th>Cause</th>\n",
       "      <th>Age Adjusted Death Rate</th>\n",
       "    </tr>\n",
       "  </thead>\n",
       "  <tbody>\n",
       "    <tr>\n",
       "      <th>0</th>\n",
       "      <td>2015</td>\n",
       "      <td>Heart Disease</td>\n",
       "      <td>168.5</td>\n",
       "    </tr>\n",
       "    <tr>\n",
       "      <th>1</th>\n",
       "      <td>2015</td>\n",
       "      <td>Cancer</td>\n",
       "      <td>158.5</td>\n",
       "    </tr>\n",
       "    <tr>\n",
       "      <th>2</th>\n",
       "      <td>2015</td>\n",
       "      <td>Stroke</td>\n",
       "      <td>37.6</td>\n",
       "    </tr>\n",
       "    <tr>\n",
       "      <th>3</th>\n",
       "      <td>2015</td>\n",
       "      <td>Accidents</td>\n",
       "      <td>43.2</td>\n",
       "    </tr>\n",
       "    <tr>\n",
       "      <th>4</th>\n",
       "      <td>2015</td>\n",
       "      <td>Influenza and Pneumonia</td>\n",
       "      <td>15.2</td>\n",
       "    </tr>\n",
       "    <tr>\n",
       "      <th>...</th>\n",
       "      <td>...</td>\n",
       "      <td>...</td>\n",
       "      <td>...</td>\n",
       "    </tr>\n",
       "    <tr>\n",
       "      <th>575</th>\n",
       "      <td>1900</td>\n",
       "      <td>Heart Disease</td>\n",
       "      <td>265.4</td>\n",
       "    </tr>\n",
       "    <tr>\n",
       "      <th>576</th>\n",
       "      <td>1900</td>\n",
       "      <td>Cancer</td>\n",
       "      <td>114.8</td>\n",
       "    </tr>\n",
       "    <tr>\n",
       "      <th>577</th>\n",
       "      <td>1900</td>\n",
       "      <td>Stroke</td>\n",
       "      <td>244.2</td>\n",
       "    </tr>\n",
       "    <tr>\n",
       "      <th>578</th>\n",
       "      <td>1900</td>\n",
       "      <td>Accidents</td>\n",
       "      <td>90.3</td>\n",
       "    </tr>\n",
       "    <tr>\n",
       "      <th>579</th>\n",
       "      <td>1900</td>\n",
       "      <td>Influenza and Pneumonia</td>\n",
       "      <td>297.5</td>\n",
       "    </tr>\n",
       "  </tbody>\n",
       "</table>\n",
       "<p>580 rows × 3 columns</p>\n",
       "</div>"
      ],
      "text/plain": [
       "     Year                    Cause  Age Adjusted Death Rate\n",
       "0    2015            Heart Disease                    168.5\n",
       "1    2015                   Cancer                    158.5\n",
       "2    2015                   Stroke                     37.6\n",
       "3    2015                Accidents                     43.2\n",
       "4    2015  Influenza and Pneumonia                     15.2\n",
       "..    ...                      ...                      ...\n",
       "575  1900            Heart Disease                    265.4\n",
       "576  1900                   Cancer                    114.8\n",
       "577  1900                   Stroke                    244.2\n",
       "578  1900                Accidents                     90.3\n",
       "579  1900  Influenza and Pneumonia                    297.5\n",
       "\n",
       "[580 rows x 3 columns]"
      ]
     },
     "execution_count": 2,
     "metadata": {},
     "output_type": "execute_result"
    }
   ],
   "source": [
    "df = pd.read_csv(\"causes_of_death.csv\")\n",
    "df"
   ]
  },
  {
   "cell_type": "markdown",
   "id": "d8f7cb9d",
   "metadata": {},
   "source": [
    "Let's say we want to sort primarily by \"Year\", and then within each year, have a subsort by \"Age Adjusted Death Rate\". Notice I have implemented this below (do not worry about syntax as it's irrelevant to CIS 212):"
   ]
  },
  {
   "cell_type": "code",
   "execution_count": 3,
   "id": "71261223",
   "metadata": {},
   "outputs": [
    {
     "data": {
      "text/html": [
       "<div>\n",
       "<style scoped>\n",
       "    .dataframe tbody tr th:only-of-type {\n",
       "        vertical-align: middle;\n",
       "    }\n",
       "\n",
       "    .dataframe tbody tr th {\n",
       "        vertical-align: top;\n",
       "    }\n",
       "\n",
       "    .dataframe thead th {\n",
       "        text-align: right;\n",
       "    }\n",
       "</style>\n",
       "<table border=\"1\" class=\"dataframe\">\n",
       "  <thead>\n",
       "    <tr style=\"text-align: right;\">\n",
       "      <th></th>\n",
       "      <th>Year</th>\n",
       "      <th>Cause</th>\n",
       "      <th>Age Adjusted Death Rate</th>\n",
       "    </tr>\n",
       "  </thead>\n",
       "  <tbody>\n",
       "    <tr>\n",
       "      <th>578</th>\n",
       "      <td>1900</td>\n",
       "      <td>Accidents</td>\n",
       "      <td>90.3</td>\n",
       "    </tr>\n",
       "    <tr>\n",
       "      <th>576</th>\n",
       "      <td>1900</td>\n",
       "      <td>Cancer</td>\n",
       "      <td>114.8</td>\n",
       "    </tr>\n",
       "    <tr>\n",
       "      <th>577</th>\n",
       "      <td>1900</td>\n",
       "      <td>Stroke</td>\n",
       "      <td>244.2</td>\n",
       "    </tr>\n",
       "    <tr>\n",
       "      <th>575</th>\n",
       "      <td>1900</td>\n",
       "      <td>Heart Disease</td>\n",
       "      <td>265.4</td>\n",
       "    </tr>\n",
       "    <tr>\n",
       "      <th>579</th>\n",
       "      <td>1900</td>\n",
       "      <td>Influenza and Pneumonia</td>\n",
       "      <td>297.5</td>\n",
       "    </tr>\n",
       "    <tr>\n",
       "      <th>...</th>\n",
       "      <td>...</td>\n",
       "      <td>...</td>\n",
       "      <td>...</td>\n",
       "    </tr>\n",
       "    <tr>\n",
       "      <th>4</th>\n",
       "      <td>2015</td>\n",
       "      <td>Influenza and Pneumonia</td>\n",
       "      <td>15.2</td>\n",
       "    </tr>\n",
       "    <tr>\n",
       "      <th>2</th>\n",
       "      <td>2015</td>\n",
       "      <td>Stroke</td>\n",
       "      <td>37.6</td>\n",
       "    </tr>\n",
       "    <tr>\n",
       "      <th>3</th>\n",
       "      <td>2015</td>\n",
       "      <td>Accidents</td>\n",
       "      <td>43.2</td>\n",
       "    </tr>\n",
       "    <tr>\n",
       "      <th>1</th>\n",
       "      <td>2015</td>\n",
       "      <td>Cancer</td>\n",
       "      <td>158.5</td>\n",
       "    </tr>\n",
       "    <tr>\n",
       "      <th>0</th>\n",
       "      <td>2015</td>\n",
       "      <td>Heart Disease</td>\n",
       "      <td>168.5</td>\n",
       "    </tr>\n",
       "  </tbody>\n",
       "</table>\n",
       "<p>580 rows × 3 columns</p>\n",
       "</div>"
      ],
      "text/plain": [
       "     Year                    Cause  Age Adjusted Death Rate\n",
       "578  1900                Accidents                     90.3\n",
       "576  1900                   Cancer                    114.8\n",
       "577  1900                   Stroke                    244.2\n",
       "575  1900            Heart Disease                    265.4\n",
       "579  1900  Influenza and Pneumonia                    297.5\n",
       "..    ...                      ...                      ...\n",
       "4    2015  Influenza and Pneumonia                     15.2\n",
       "2    2015                   Stroke                     37.6\n",
       "3    2015                Accidents                     43.2\n",
       "1    2015                   Cancer                    158.5\n",
       "0    2015            Heart Disease                    168.5\n",
       "\n",
       "[580 rows x 3 columns]"
      ]
     },
     "execution_count": 3,
     "metadata": {},
     "output_type": "execute_result"
    }
   ],
   "source": [
    "df.sort_values([\"Year\",\"Age Adjusted Death Rate\"])"
   ]
  },
  {
   "cell_type": "markdown",
   "id": "65b8f4eb",
   "metadata": {},
   "source": [
    "See how the dataframe is sorted by the primary key of year in ascending order, then by the secondary key, age adjusted death rate. \n",
    "\n",
    "**Is this the same as what I have said below?**\n",
    "\n",
    "Notice I am sorting the dataframe by \"Age Adjusted Death Rate\", then sorting by \"Year\""
   ]
  },
  {
   "cell_type": "code",
   "execution_count": 4,
   "id": "1f5d2380",
   "metadata": {},
   "outputs": [
    {
     "data": {
      "text/html": [
       "<div>\n",
       "<style scoped>\n",
       "    .dataframe tbody tr th:only-of-type {\n",
       "        vertical-align: middle;\n",
       "    }\n",
       "\n",
       "    .dataframe tbody tr th {\n",
       "        vertical-align: top;\n",
       "    }\n",
       "\n",
       "    .dataframe thead th {\n",
       "        text-align: right;\n",
       "    }\n",
       "</style>\n",
       "<table border=\"1\" class=\"dataframe\">\n",
       "  <thead>\n",
       "    <tr style=\"text-align: right;\">\n",
       "      <th></th>\n",
       "      <th>Year</th>\n",
       "      <th>Cause</th>\n",
       "      <th>Age Adjusted Death Rate</th>\n",
       "    </tr>\n",
       "  </thead>\n",
       "  <tbody>\n",
       "    <tr>\n",
       "      <th>578</th>\n",
       "      <td>1900</td>\n",
       "      <td>Accidents</td>\n",
       "      <td>90.3</td>\n",
       "    </tr>\n",
       "    <tr>\n",
       "      <th>579</th>\n",
       "      <td>1900</td>\n",
       "      <td>Influenza and Pneumonia</td>\n",
       "      <td>297.5</td>\n",
       "    </tr>\n",
       "    <tr>\n",
       "      <th>577</th>\n",
       "      <td>1900</td>\n",
       "      <td>Stroke</td>\n",
       "      <td>244.2</td>\n",
       "    </tr>\n",
       "    <tr>\n",
       "      <th>575</th>\n",
       "      <td>1900</td>\n",
       "      <td>Heart Disease</td>\n",
       "      <td>265.4</td>\n",
       "    </tr>\n",
       "    <tr>\n",
       "      <th>576</th>\n",
       "      <td>1900</td>\n",
       "      <td>Cancer</td>\n",
       "      <td>114.8</td>\n",
       "    </tr>\n",
       "    <tr>\n",
       "      <th>...</th>\n",
       "      <td>...</td>\n",
       "      <td>...</td>\n",
       "      <td>...</td>\n",
       "    </tr>\n",
       "    <tr>\n",
       "      <th>2</th>\n",
       "      <td>2015</td>\n",
       "      <td>Stroke</td>\n",
       "      <td>37.6</td>\n",
       "    </tr>\n",
       "    <tr>\n",
       "      <th>3</th>\n",
       "      <td>2015</td>\n",
       "      <td>Accidents</td>\n",
       "      <td>43.2</td>\n",
       "    </tr>\n",
       "    <tr>\n",
       "      <th>4</th>\n",
       "      <td>2015</td>\n",
       "      <td>Influenza and Pneumonia</td>\n",
       "      <td>15.2</td>\n",
       "    </tr>\n",
       "    <tr>\n",
       "      <th>1</th>\n",
       "      <td>2015</td>\n",
       "      <td>Cancer</td>\n",
       "      <td>158.5</td>\n",
       "    </tr>\n",
       "    <tr>\n",
       "      <th>0</th>\n",
       "      <td>2015</td>\n",
       "      <td>Heart Disease</td>\n",
       "      <td>168.5</td>\n",
       "    </tr>\n",
       "  </tbody>\n",
       "</table>\n",
       "<p>580 rows × 3 columns</p>\n",
       "</div>"
      ],
      "text/plain": [
       "     Year                    Cause  Age Adjusted Death Rate\n",
       "578  1900                Accidents                     90.3\n",
       "579  1900  Influenza and Pneumonia                    297.5\n",
       "577  1900                   Stroke                    244.2\n",
       "575  1900            Heart Disease                    265.4\n",
       "576  1900                   Cancer                    114.8\n",
       "..    ...                      ...                      ...\n",
       "2    2015                   Stroke                     37.6\n",
       "3    2015                Accidents                     43.2\n",
       "4    2015  Influenza and Pneumonia                     15.2\n",
       "1    2015                   Cancer                    158.5\n",
       "0    2015            Heart Disease                    168.5\n",
       "\n",
       "[580 rows x 3 columns]"
      ]
     },
     "execution_count": 4,
     "metadata": {},
     "output_type": "execute_result"
    }
   ],
   "source": [
    "df.sort_values(\"Age Adjusted Death Rate\").sort_values(\"Year\")  # sort by AADR then sort again by Year"
   ]
  },
  {
   "cell_type": "markdown",
   "id": "58faf37d",
   "metadata": {},
   "source": [
    "What happened? The Year column seems correct but the AADR column is not sorted!\n",
    "\n",
    "Let's check the documentation for pandas sort_values function: https://pandas.pydata.org/docs/reference/api/pandas.DataFrame.sort_values.html\n",
    "\n",
    "Why did this happen?"
   ]
  },
  {
   "cell_type": "markdown",
   "id": "052479b0",
   "metadata": {},
   "source": [
    "Let's modify the characteristics of the sort_values function to get a correct primary sort of \"Year\" and a secondary sort of \"Age Adjusted Death Rate\"!"
   ]
  },
  {
   "cell_type": "code",
   "execution_count": 11,
   "id": "b1eaef40",
   "metadata": {},
   "outputs": [
    {
     "data": {
      "text/html": [
       "<div>\n",
       "<style scoped>\n",
       "    .dataframe tbody tr th:only-of-type {\n",
       "        vertical-align: middle;\n",
       "    }\n",
       "\n",
       "    .dataframe tbody tr th {\n",
       "        vertical-align: top;\n",
       "    }\n",
       "\n",
       "    .dataframe thead th {\n",
       "        text-align: right;\n",
       "    }\n",
       "</style>\n",
       "<table border=\"1\" class=\"dataframe\">\n",
       "  <thead>\n",
       "    <tr style=\"text-align: right;\">\n",
       "      <th></th>\n",
       "      <th>Year</th>\n",
       "      <th>Cause</th>\n",
       "      <th>Age Adjusted Death Rate</th>\n",
       "    </tr>\n",
       "  </thead>\n",
       "  <tbody>\n",
       "    <tr>\n",
       "      <th>578</th>\n",
       "      <td>1900</td>\n",
       "      <td>Accidents</td>\n",
       "      <td>90.3</td>\n",
       "    </tr>\n",
       "    <tr>\n",
       "      <th>576</th>\n",
       "      <td>1900</td>\n",
       "      <td>Cancer</td>\n",
       "      <td>114.8</td>\n",
       "    </tr>\n",
       "    <tr>\n",
       "      <th>577</th>\n",
       "      <td>1900</td>\n",
       "      <td>Stroke</td>\n",
       "      <td>244.2</td>\n",
       "    </tr>\n",
       "    <tr>\n",
       "      <th>575</th>\n",
       "      <td>1900</td>\n",
       "      <td>Heart Disease</td>\n",
       "      <td>265.4</td>\n",
       "    </tr>\n",
       "    <tr>\n",
       "      <th>579</th>\n",
       "      <td>1900</td>\n",
       "      <td>Influenza and Pneumonia</td>\n",
       "      <td>297.5</td>\n",
       "    </tr>\n",
       "    <tr>\n",
       "      <th>...</th>\n",
       "      <td>...</td>\n",
       "      <td>...</td>\n",
       "      <td>...</td>\n",
       "    </tr>\n",
       "    <tr>\n",
       "      <th>4</th>\n",
       "      <td>2015</td>\n",
       "      <td>Influenza and Pneumonia</td>\n",
       "      <td>15.2</td>\n",
       "    </tr>\n",
       "    <tr>\n",
       "      <th>2</th>\n",
       "      <td>2015</td>\n",
       "      <td>Stroke</td>\n",
       "      <td>37.6</td>\n",
       "    </tr>\n",
       "    <tr>\n",
       "      <th>3</th>\n",
       "      <td>2015</td>\n",
       "      <td>Accidents</td>\n",
       "      <td>43.2</td>\n",
       "    </tr>\n",
       "    <tr>\n",
       "      <th>1</th>\n",
       "      <td>2015</td>\n",
       "      <td>Cancer</td>\n",
       "      <td>158.5</td>\n",
       "    </tr>\n",
       "    <tr>\n",
       "      <th>0</th>\n",
       "      <td>2015</td>\n",
       "      <td>Heart Disease</td>\n",
       "      <td>168.5</td>\n",
       "    </tr>\n",
       "  </tbody>\n",
       "</table>\n",
       "<p>580 rows × 3 columns</p>\n",
       "</div>"
      ],
      "text/plain": [
       "     Year                    Cause  Age Adjusted Death Rate\n",
       "578  1900                Accidents                     90.3\n",
       "576  1900                   Cancer                    114.8\n",
       "577  1900                   Stroke                    244.2\n",
       "575  1900            Heart Disease                    265.4\n",
       "579  1900  Influenza and Pneumonia                    297.5\n",
       "..    ...                      ...                      ...\n",
       "4    2015  Influenza and Pneumonia                     15.2\n",
       "2    2015                   Stroke                     37.6\n",
       "3    2015                Accidents                     43.2\n",
       "1    2015                   Cancer                    158.5\n",
       "0    2015            Heart Disease                    168.5\n",
       "\n",
       "[580 rows x 3 columns]"
      ]
     },
     "execution_count": 11,
     "metadata": {},
     "output_type": "execute_result"
    }
   ],
   "source": [
    "df.sort_values(\"Age Adjusted Death Rate\", kind=\"stable\").sort_values(\"Year\", kind=\"mergesort\") # use stable sort"
   ]
  },
  {
   "cell_type": "code",
   "execution_count": 12,
   "id": "0619e9d6",
   "metadata": {},
   "outputs": [],
   "source": [
    "def bubbleSort(ourList):\n",
    "    \"\"\"\n",
    "    complete the bubble sort algorithm\n",
    "    \"\"\"\n",
    "    index_length = len(ourList) - 1\n",
    "    is_sorted = False\n",
    "    \n",
    "    while not is_sorted:  # break once our list is sorted\n",
    "        is_sorted = True\n",
    "        \n",
    "        for i in range(0, index_length):\n",
    "            if ourList[i] > ourList[i+1]:\n",
    "                is_sorted = False\n",
    "                ourList[i], ourList[i+1] = ourList[i+1], ourList[i]"
   ]
  },
  {
   "cell_type": "code",
   "execution_count": 13,
   "id": "8a0497e9",
   "metadata": {},
   "outputs": [],
   "source": [
    "def mergeSort(arr):\n",
    "    \"\"\"\n",
    "    Algorithm from GeeksforGeeks\n",
    "    \"\"\"\n",
    "    if len(arr) > 1:\n",
    "         # Finding the mid of the array\n",
    "        mid = len(arr)//2\n",
    "        # Dividing the array elements\n",
    "        L = arr[:mid]\n",
    "        # into 2 halves\n",
    "        R = arr[mid:]\n",
    "        # Sorting the first half\n",
    "        mergeSort(L)\n",
    "        # Sorting the second half\n",
    "        mergeSort(R)\n",
    "        i = j = k = 0\n",
    "        # Copy data to temp arrays L[] and R[]\n",
    "        while i < len(L) and j < len(R):\n",
    "            if L[i] < R[j]:\n",
    "                arr[k] = L[i]\n",
    "                i += 1\n",
    "            else:\n",
    "                arr[k] = R[j]\n",
    "                j += 1\n",
    "            k += 1\n",
    "        # Checking if any element was left\n",
    "        while i < len(L):\n",
    "            arr[k] = L[i]\n",
    "            i += 1\n",
    "            k += 1\n",
    "        while j < len(R):\n",
    "            arr[k] = R[j]\n",
    "            j += 1\n",
    "            k += 1"
   ]
  },
  {
   "cell_type": "markdown",
   "id": "cb798c29",
   "metadata": {},
   "source": [
    "Let's time our two algorithms sorting a random list of size 10,000 "
   ]
  },
  {
   "cell_type": "code",
   "execution_count": 15,
   "id": "41b59ce5",
   "metadata": {},
   "outputs": [
    {
     "name": "stdout",
     "output_type": "stream",
     "text": [
      "Time in seconds it took bubblesort (O(n^2)) to sort a random array of size 10,000: 10.59\n",
      "Time in seconds it took mergesort (O(nlog(n))) to sort a random array of size 10,000: 0.03\n"
     ]
    }
   ],
   "source": [
    "def main():\n",
    "    arr = random.sample(range(0, 100000), 10000)  # generate a random list \n",
    "    arr3 = arr.copy()\n",
    "\n",
    "    # O(n^2) n=10,000\n",
    "    # 100,000,000\n",
    "    start_time = time.perf_counter()  # time BubbleSort\n",
    "    bubbleSort(arr)\n",
    "    time1 = time.perf_counter() - start_time\n",
    "    \n",
    "    # O(nlog(n)) n=10,000 \n",
    "    # 132,877.12\n",
    "    start_time3 = time.perf_counter()  # Time mergesort\n",
    "    mergeSort(arr3)\n",
    "    time3 = time.perf_counter() - start_time3\n",
    "    \n",
    "    print(f'Time in seconds it took bubblesort (O(n^2)) to sort a random array of size 10,000: {round(time1,2)}')\n",
    "    print(f'Time in seconds it took mergesort (O(nlog(n))) to sort a random array of size 10,000: {round(time3,2)}')\n",
    "    \n",
    "    \n",
    "main()"
   ]
  },
  {
   "cell_type": "markdown",
   "id": "a0161190",
   "metadata": {},
   "source": [
    "<center><h2>Hashing Function Time!</h2></center>"
   ]
  },
  {
   "cell_type": "markdown",
   "id": "663859d9",
   "metadata": {},
   "source": [
    "Generate a random string"
   ]
  },
  {
   "cell_type": "code",
   "execution_count": 16,
   "id": "5b66d082",
   "metadata": {},
   "outputs": [
    {
     "data": {
      "text/plain": [
       "'oqyok'"
      ]
     },
     "execution_count": 16,
     "metadata": {},
     "output_type": "execute_result"
    }
   ],
   "source": [
    "import string\n",
    "\n",
    "random_string = ''.join(random.choices(string.ascii_lowercase + string.digits, k=5))\n",
    "random_string"
   ]
  },
  {
   "cell_type": "markdown",
   "id": "81839e26",
   "metadata": {},
   "source": [
    "Find corresponding hash value of string when using Python's \"hash\" function."
   ]
  },
  {
   "cell_type": "code",
   "execution_count": 17,
   "id": "868966aa",
   "metadata": {},
   "outputs": [
    {
     "data": {
      "text/plain": [
       "-2775557276917745558"
      ]
     },
     "execution_count": 17,
     "metadata": {},
     "output_type": "execute_result"
    }
   ],
   "source": [
    "hash(random_string)"
   ]
  },
  {
   "cell_type": "markdown",
   "id": "19277074",
   "metadata": {},
   "source": [
    "That's a large number! What if we only want hash values within a certain range? Let's make a function to do this!"
   ]
  },
  {
   "cell_type": "code",
   "execution_count": 18,
   "id": "829d7975",
   "metadata": {},
   "outputs": [],
   "source": [
    "def nBucket_hash(s, n):\n",
    "    \"\"\"\n",
    "    return the hash value of s between 0-n-1\n",
    "    \n",
    "    possible values range between 0 and n-1\n",
    "    \"\"\"\n",
    "    return hash(s) % n"
   ]
  },
  {
   "cell_type": "code",
   "execution_count": 19,
   "id": "b6c6759d",
   "metadata": {},
   "outputs": [
    {
     "data": {
      "text/plain": [
       "2"
      ]
     },
     "execution_count": 19,
     "metadata": {},
     "output_type": "execute_result"
    }
   ],
   "source": [
    "nBucket_hash(random_string, 10)"
   ]
  },
  {
   "cell_type": "code",
   "execution_count": 20,
   "id": "055efcd5",
   "metadata": {
    "scrolled": false
   },
   "outputs": [
    {
     "data": {
      "image/png": "[encoded data removed]",
      "text/plain": [
       "<Figure size 936x504 with 1 Axes>"
      ]
     },
     "metadata": {},
     "output_type": "display_data"
    }
   ],
   "source": [
    "hash_list = []\n",
    "\n",
    "for i in range(10000):\n",
    "    our_string = ''.join(random.choices(string.ascii_lowercase + string.digits, k=5))\n",
    "    hash_value = nBucket_hash(our_string, 10)\n",
    "    hash_list.append(hash_value)\n",
    "\n",
    "    \n",
    "sns.set(font_scale = 1.6, rc={'figure.figsize':(13,7)})\n",
    "sns.countplot(x=np.array(hash_list))\n",
    "plt.xlabel(\"Buckets (Values 0-9)\")\n",
    "plt.title(\"Distribution of Hash Values\", fontsize=22);"
   ]
  },
  {
   "cell_type": "markdown",
   "id": "19308f2b",
   "metadata": {},
   "source": [
    "Assume each list nested within little_table represents a bucket."
   ]
  },
  {
   "cell_type": "code",
   "execution_count": 21,
   "id": "24bd6e45",
   "metadata": {},
   "outputs": [
    {
     "data": {
      "text/plain": [
       "[[], [], [], [], [], [], [], [], [], []]"
      ]
     },
     "execution_count": 21,
     "metadata": {},
     "output_type": "execute_result"
    }
   ],
   "source": [
    "little_table = [[] for x in range(10)]\n",
    "little_table"
   ]
  },
  {
   "cell_type": "markdown",
   "id": "470c5aea",
   "metadata": {},
   "source": [
    "Then in theory, we should be able to assign a random string to a bucket based on it's hash value!\n",
    "\n",
    "Let's try generating 10 random strings and assigning them to their corresponding bucket"
   ]
  },
  {
   "cell_type": "code",
   "execution_count": 22,
   "id": "5fdd996e",
   "metadata": {},
   "outputs": [
    {
     "name": "stdout",
     "output_type": "stream",
     "text": [
      "296qy\n",
      "0s6i2\n",
      "0v5np\n",
      "2phwb\n",
      "8egns\n",
      "oeeic\n",
      "2txa2\n",
      "eq9ng\n",
      "udlmj\n",
      "8ek81\n",
      "\n",
      "Little Table:\n",
      "0 ['0v5np']\n",
      "1 []\n",
      "2 ['udlmj']\n",
      "3 ['8egns', '2txa2']\n",
      "4 ['oeeic', '8ek81']\n",
      "5 ['eq9ng']\n",
      "6 []\n",
      "7 []\n",
      "8 ['296qy']\n",
      "9 ['0s6i2', '2phwb']\n"
     ]
    }
   ],
   "source": [
    "for i in range(10):\n",
    "    our_string = ''.join(random.choices(string.ascii_lowercase + string.digits, k=5))\n",
    "    print(our_string)\n",
    "    hash_value = nBucket_hash(our_string, 10)\n",
    "    little_table[hash_value].append(our_string)\n",
    "    \n",
    "print()\n",
    "print(\"Little Table:\")\n",
    "for i in range(len(little_table)):\n",
    "    print(i, little_table[i])"
   ]
  },
  {
   "cell_type": "markdown",
   "id": "6b78788c",
   "metadata": {},
   "source": [
    "There are likely collisions in the above table (multiple strings in one bucket)--unless randomly each string was assigned a different bucket. How might we decrease the likelihood of collisions?"
   ]
  },
  {
   "cell_type": "code",
   "execution_count": 23,
   "id": "88ebb1d6",
   "metadata": {
    "scrolled": false
   },
   "outputs": [
    {
     "name": "stdout",
     "output_type": "stream",
     "text": [
      "Big Table\n",
      "0 []\n",
      "1 ['vf3z2']\n",
      "2 []\n",
      "3 []\n",
      "4 []\n",
      "5 ['qo2ha']\n",
      "6 ['04mya']\n",
      "7 ['jiort']\n",
      "8 []\n",
      "9 []\n",
      "10 []\n",
      "11 []\n",
      "12 ['o0433']\n",
      "13 ['25n8e']\n",
      "14 []\n",
      "15 ['qepte']\n",
      "16 []\n",
      "17 []\n",
      "18 []\n",
      "19 []\n",
      "20 []\n",
      "21 []\n",
      "22 []\n",
      "23 []\n",
      "24 ['fx6q1']\n",
      "25 []\n",
      "26 []\n",
      "27 []\n",
      "28 []\n",
      "29 ['1y723']\n",
      "30 ['w1irg']\n"
     ]
    }
   ],
   "source": [
    "big_table = [[] for x in range(31)]\n",
    "\n",
    "for i in range(10):\n",
    "    our_string = ''.join(random.choices(string.ascii_lowercase + string.digits, k=5))\n",
    "    hash_value = nBucket_hash(our_string, 31)\n",
    "    big_table[hash_value].append(our_string)\n",
    "    \n",
    "print(\"Big Table\")\n",
    "for i in range(len(big_table)):\n",
    "    print(i, big_table[i])"
   ]
  },
  {
   "cell_type": "markdown",
   "id": "4bf9421c",
   "metadata": {},
   "source": [
    "Ok so let's say that I want to know which bucket an element X lives. How might I do that?"
   ]
  },
  {
   "cell_type": "code",
   "execution_count": 24,
   "id": "89c171d3",
   "metadata": {},
   "outputs": [
    {
     "data": {
      "text/plain": [
       "11"
      ]
     },
     "execution_count": 24,
     "metadata": {},
     "output_type": "execute_result"
    }
   ],
   "source": [
    "# where does __ live?\n",
    "nBucket_hash('e9box', 20)"
   ]
  },
  {
   "cell_type": "markdown",
   "id": "b96a7874",
   "metadata": {},
   "source": [
    "All we have to do is hash X and we will get in response the corresponding location where X would be located in the table!"
   ]
  },
  {
   "cell_type": "code",
   "execution_count": null,
   "id": "b83346ed",
   "metadata": {},
   "outputs": [],
   "source": []
  }
 ],
 "metadata": {
  "kernelspec": {
   "display_name": "Python 3 (ipykernel)",
   "language": "python",
   "name": "python3"
  },
  "language_info": {
   "codemirror_mode": {
    "name": "ipython",
    "version": 3
   },
   "file_extension": ".py",
   "mimetype": "text/x-python",
   "name": "python",
   "nbconvert_exporter": "python",
   "pygments_lexer": "ipython3",
   "version": "3.9.5"
  }
 },
 "nbformat": 4,
 "nbformat_minor": 5
}
